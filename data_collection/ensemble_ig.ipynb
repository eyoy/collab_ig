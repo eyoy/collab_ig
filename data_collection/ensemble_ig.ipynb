{
 "cells": [
  {
   "cell_type": "code",
   "execution_count": 1,
   "metadata": {},
   "outputs": [],
   "source": [
    "import requests\n",
    "\n",
    "root = \"https://www.ensembledata.com/apis\"\n",
    "endpoint = \"/instagram/user/posts\"\n",
    "params = {\n",
    "  \"user_id\": 13460080,\n",
    "  \"depth\": 1,\n",
    "  \"oldest_timestamp\": 1633051187,\n",
    "  \"chunk_size\": 10,\n",
    "  \"start_cursor\": \"\",\n",
    "  \"alternative_method\": False,\n",
    "  \"token\": \"Ud2HJY5PNlGwDfYD\"\n",
    "}\n",
    "\n",
    "res = requests.get(root+endpoint, params=params)\n",
    "#print(res.json())"
   ]
  },
  {
   "cell_type": "code",
   "execution_count": 5,
   "metadata": {},
   "outputs": [
    {
     "data": {
      "text/plain": [
       "dict_keys(['count', 'posts', 'last_cursor'])"
      ]
     },
     "execution_count": 5,
     "metadata": {},
     "output_type": "execute_result"
    }
   ],
   "source": [
    "res.json()['data'].keys()"
   ]
  },
  {
   "cell_type": "code",
   "execution_count": 7,
   "metadata": {},
   "outputs": [
    {
     "data": {
      "text/plain": [
       "10"
      ]
     },
     "execution_count": 7,
     "metadata": {},
     "output_type": "execute_result"
    }
   ],
   "source": [
    "res.json()['data']['posts']"
   ]
  },
  {
   "cell_type": "code",
   "execution_count": null,
   "metadata": {},
   "outputs": [],
   "source": []
  }
 ],
 "metadata": {
  "kernelspec": {
   "display_name": "new",
   "language": "python",
   "name": "python3"
  },
  "language_info": {
   "codemirror_mode": {
    "name": "ipython",
    "version": 3
   },
   "file_extension": ".py",
   "mimetype": "text/x-python",
   "name": "python",
   "nbconvert_exporter": "python",
   "pygments_lexer": "ipython3",
   "version": "3.9.18"
  }
 },
 "nbformat": 4,
 "nbformat_minor": 2
}
