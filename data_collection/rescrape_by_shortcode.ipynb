{
 "cells": [
  {
   "cell_type": "code",
   "execution_count": 2,
   "metadata": {},
   "outputs": [
    {
     "name": "stdout",
     "output_type": "stream",
     "text": [
      "fabletics 0\n",
      "Brand has existed\n"
     ]
    },
    {
     "ename": "NameError",
     "evalue": "name 'response_json' is not defined",
     "output_type": "error",
     "traceback": [
      "\u001b[0;31m---------------------------------------------------------------------------\u001b[0m",
      "\u001b[0;31mNameError\u001b[0m                                 Traceback (most recent call last)",
      "Cell \u001b[0;32mIn[2], line 62\u001b[0m\n\u001b[1;32m     60\u001b[0m     \u001b[38;5;28;01mpass\u001b[39;00m\n\u001b[1;32m     61\u001b[0m \u001b[38;5;28;01mwith\u001b[39;00m \u001b[38;5;28mopen\u001b[39m(\u001b[38;5;124mf\u001b[39m\u001b[38;5;124m'\u001b[39m\u001b[38;5;124m/mnt/f/ig/meta_new/\u001b[39m\u001b[38;5;132;01m{\u001b[39;00mb\u001b[38;5;132;01m}\u001b[39;00m\u001b[38;5;124m/\u001b[39m\u001b[38;5;132;01m{\u001b[39;00m\u001b[38;5;28mid\u001b[39m\u001b[38;5;132;01m}\u001b[39;00m\u001b[38;5;124m/\u001b[39m\u001b[38;5;124m'\u001b[39m \u001b[38;5;241m+\u001b[39m \u001b[38;5;28mid\u001b[39m\u001b[38;5;241m+\u001b[39m\u001b[38;5;124m'\u001b[39m\u001b[38;5;124m_\u001b[39m\u001b[38;5;124m'\u001b[39m\u001b[38;5;241m+\u001b[39msc\u001b[38;5;241m+\u001b[39m\u001b[38;5;124m'\u001b[39m\u001b[38;5;124m.json\u001b[39m\u001b[38;5;124m'\u001b[39m, \u001b[38;5;124m'\u001b[39m\u001b[38;5;124mw\u001b[39m\u001b[38;5;124m'\u001b[39m) \u001b[38;5;28;01mas\u001b[39;00m f:\n\u001b[0;32m---> 62\u001b[0m     json\u001b[38;5;241m.\u001b[39mdump(\u001b[43mresponse_json\u001b[49m, f)\n",
      "\u001b[0;31mNameError\u001b[0m: name 'response_json' is not defined"
     ]
    }
   ],
   "source": [
    "import json\n",
    "import os\n",
    "import re\n",
    "import time\n",
    "from typing import Any, Dict, List, Optional, Union\n",
    "from urllib.parse import quote_plus\n",
    "\n",
    "import pandas as pd\n",
    "import requests\n",
    "from tqdm.notebook import tqdm\n",
    "#from retry.api import retry_call\n",
    "os.chdir('/mnt/f/ig/')\n",
    "\n",
    "sf_api_key = \"INhGdYFecrKghvYft3BTGPQxYgP27oobSIaM74zvehIWJWuAEKhkXVE3dVpWgaFjBx90YDwaVxPFyRyUTO\"\n",
    "\n",
    "def request_json(url, params) -> Dict[str, Any]:\n",
    "    response = requests.get(url, params=params, timeout=110)\n",
    "    response.raise_for_status()\n",
    "    return response.json()\n",
    "brands = ['fabletics']\n",
    "for b in brands:\n",
    "    print(b, brands.index(b))\n",
    "    if os.path.exists('meta_new/{}'.format(b)):\n",
    "        print(\"Brand has existed\")\n",
    "    else:\n",
    "        os.mkdir('meta_new/{}'.format(b))\n",
    "    # with open('/Volumes/erya/ig/meta_new/' + b + '.json', 'r') as f:\n",
    "    #     id_sc_list = json.load(f)\n",
    "    # for i in id_sc_list:\n",
    "    #     print(i, id_sc_list.index(i))\n",
    "    #     sc = i.split('/')[-1].split('_',1)[1].split('.')[0]\n",
    "    #     id = i.split('/')[-2]\n",
    "    id = '684193252595887233'\n",
    "    if os.path.exists('meta_new/{}/{}'.format(b,id)):\n",
    "        print('Exist')\n",
    "        #continue\n",
    "    else:\n",
    "        os.mkdir('meta_new/{}/{}'.format(b,id)) \n",
    "        #print(sc)\n",
    "    sc = 'l-viNismyB'\n",
    "    \n",
    "    variables = {\n",
    "            \"shortcode\": sc,\n",
    "            \"child_comment_count\": 0,\n",
    "            \"fetch_comment_count\": 0,\n",
    "            \"parent_comment_count\": 0,\n",
    "            \"has_threaded_comments\": False,\n",
    "        }\n",
    "    params = {\n",
    "            \"api_key\": sf_api_key,\n",
    "            #\"url\": f\"https://instagram.com/graphql/query/?query_id=17888483320059182&id={user_id}&first=24&after={end_cursor}\",\n",
    "            \"url\":f\"https://www.instagram.com/graphql/query/?query_hash=b3055c01b4b222b8a47dc12b090e4e64&shortcode={variables['shortcode']}&child_comment_count={variables['child_comment_count']}&fetch_comment_count={variables['fetch_comment_count']}&parent_comment_count={variables['parent_comment_count']}&has_threaded_comments={variables['has_threaded_comments']}\",\n",
    "            #\"url\":f\"https://instagram.com/graphql/query/?query_hash=56a7068fea504063273cc2120ffd54f3&id={user_id}&first=24&after={end_cursor}\"\n",
    "        }\n",
    "    try:\n",
    "        response_json = request_json(url=\"https://scraping.narf.ai/api/v1/\", params=params)\n",
    "        if response_json.getcode() == 200:\n",
    "            break\n",
    "    except:\n",
    "        pass\n",
    "    with open(f'/mnt/f/ig/meta_new/{b}/{id}/' + id+'_'+sc+'.json', 'w') as f:\n",
    "        json.dump(response_json, f)"
   ]
  }
 ],
 "metadata": {
  "kernelspec": {
   "display_name": "tf-ws",
   "language": "python",
   "name": "python3"
  },
  "language_info": {
   "codemirror_mode": {
    "name": "ipython",
    "version": 3
   },
   "file_extension": ".py",
   "mimetype": "text/x-python",
   "name": "python",
   "nbconvert_exporter": "python",
   "pygments_lexer": "ipython3",
   "version": "3.10.14"
  }
 },
 "nbformat": 4,
 "nbformat_minor": 2
}
