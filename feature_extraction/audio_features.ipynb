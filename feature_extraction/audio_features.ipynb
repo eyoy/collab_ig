{
 "cells": [
  {
   "cell_type": "code",
   "execution_count": 9,
   "metadata": {},
   "outputs": [],
   "source": [
    "import opensmile\n",
    "\n",
    "smile = opensmile.Smile(\n",
    "    feature_set=opensmile.FeatureSet.emobase,\n",
    "    feature_level=opensmile.FeatureLevel.Functionals,\n",
    ")\n",
    "y = smile.process_file(\"/mnt/e/erya/collab_posts_ig/video/audio/abercrombie/2508297928374539633_CLPQ60jnNVx.mp3\")"
   ]
  },
  {
   "cell_type": "code",
   "execution_count": 5,
   "metadata": {},
   "outputs": [
    {
     "data": {
      "text/plain": [
       "(1, 6373)"
      ]
     },
     "execution_count": 5,
     "metadata": {},
     "output_type": "execute_result"
    }
   ],
   "source": [
    "y.shape"
   ]
  },
  {
   "cell_type": "code",
   "execution_count": 13,
   "metadata": {},
   "outputs": [],
   "source": [
    "import os\n",
    "b = 'adidas'\n",
    "mp3_files = []\n",
    "for root, dirs, files in os.walk(\"/mnt/e/erya/collab_posts_ig/video//audio/{}\".format(b), topdown=False):\n",
    "    for name in files:\n",
    "        if not name.startswith('.') and name.endswith('.mp3'):\n",
    "            #print(name)\n",
    "            #print(os.path.join(root, name))\n",
    "            mp3_files.append(os.path.join(root, name))"
   ]
  },
  {
   "cell_type": "code",
   "execution_count": 14,
   "metadata": {},
   "outputs": [
    {
     "data": {
      "text/plain": [
       "['/mnt/e/erya/collab_posts_ig/video//audio/adidas/2515540507751271211_CLo_sOOnssr.mp3',\n",
       " '/mnt/e/erya/collab_posts_ig/video//audio/adidas/2522816126145185891_CMC1-Z4gshj_1.mp3',\n",
       " '/mnt/e/erya/collab_posts_ig/video//audio/adidas/2522816126145185891_CMC1-Z4gshj_2.mp3',\n",
       " '/mnt/e/erya/collab_posts_ig/video//audio/adidas/2522816126145185891_CMC1-Z4gshj_3.mp3',\n",
       " '/mnt/e/erya/collab_posts_ig/video//audio/adidas/2522816126145185891_CMC1-Z4gshj_4.mp3',\n",
       " '/mnt/e/erya/collab_posts_ig/video//audio/adidas/2522816126145185891_CMC1-Z4gshj_5.mp3',\n",
       " '/mnt/e/erya/collab_posts_ig/video//audio/adidas/2522816126145185891_CMC1-Z4gshj_6.mp3',\n",
       " '/mnt/e/erya/collab_posts_ig/video//audio/adidas/2555132910916998849_CN1p9hFHhbB.mp3',\n",
       " '/mnt/e/erya/collab_posts_ig/video//audio/adidas/2557517786945201009_CN-IOB9nKNx.mp3',\n",
       " '/mnt/e/erya/collab_posts_ig/video//audio/adidas/2558980722624674479_CODU2i_Hbqv.mp3',\n",
       " '/mnt/e/erya/collab_posts_ig/video//audio/adidas/2560416851542466861_COIbY-RHOEt.mp3',\n",
       " '/mnt/e/erya/collab_posts_ig/video//audio/adidas/2561866630755564200_CONlCCYHLqo.mp3',\n",
       " '/mnt/e/erya/collab_posts_ig/video//audio/adidas/2566215802820640179_COdB60gHj2z.mp3',\n",
       " '/mnt/e/erya/collab_posts_ig/video//audio/adidas/2567664397629356582_COiLSpjHXom.mp3',\n",
       " '/mnt/e/erya/collab_posts_ig/video//audio/adidas/2568390337508105757_COkwWdvt14d.mp3',\n",
       " '/mnt/e/erya/collab_posts_ig/video//audio/adidas/2569115128212959851_COnVJjsNzJr.mp3',\n",
       " '/mnt/e/erya/collab_posts_ig/video//audio/adidas/2570470162081580244_COsJP5UnQTU.mp3',\n",
       " '/mnt/e/erya/collab_posts_ig/video//audio/adidas/2571289448913702902_COvDiFpNg_2.mp3',\n",
       " '/mnt/e/erya/collab_posts_ig/video//audio/adidas/2572730224731353809_CO0LIIsBfLR.mp3',\n",
       " '/mnt/e/erya/collab_posts_ig/video//audio/adidas/2573463765327892260_CO2x6jmtU8k.mp3',\n",
       " '/mnt/e/erya/collab_posts_ig/video//audio/adidas/2574188432158131688_CO5Wr2LtIXo.mp3',\n",
       " '/mnt/e/erya/collab_posts_ig/video//audio/adidas/2574913305801256813_CO77gJXte9t.mp3',\n",
       " '/mnt/e/erya/collab_posts_ig/video//audio/adidas/2575638176483014367_CO-gUZzNHbf.mp3',\n",
       " '/mnt/e/erya/collab_posts_ig/video//audio/adidas/2577846721442926906_CPGWe9lAtE6.mp3',\n",
       " '/mnt/e/erya/collab_posts_ig/video//audio/adidas/2583614274371032360_CPa1350g5Uo.mp3',\n",
       " '/mnt/e/erya/collab_posts_ig/video//audio/adidas/2592307986548447834_CP5umEOoNpa.mp3',\n",
       " '/mnt/e/erya/collab_posts_ig/video//audio/adidas/2593033374833287840_CP8Th2tq6Kg.mp3',\n",
       " '/mnt/e/erya/collab_posts_ig/video//audio/adidas/2613886783861572008_CRGZC5TKEGo.mp3',\n",
       " '/mnt/e/erya/collab_posts_ig/video//audio/adidas/2623806695963060782_CRpoknYK2ou.mp3',\n",
       " '/mnt/e/erya/collab_posts_ig/video//audio/adidas/2628918171144589302_CR7yyXmpI_2.mp3',\n",
       " '/mnt/e/erya/collab_posts_ig/video//audio/adidas/2646730478424077243_CS7E1jeqrO7.mp3',\n",
       " '/mnt/e/erya/collab_posts_ig/video//audio/adidas/2647390937205312657_CS9bAfptgyR.mp3',\n",
       " '/mnt/e/erya/collab_posts_ig/video//audio/adidas/2664104228797479986_CT4zK5aFvwy.mp3',\n",
       " '/mnt/e/erya/collab_posts_ig/video//audio/adidas/2670629062757925687_CUP-vukhUM3.mp3',\n",
       " '/mnt/e/erya/collab_posts_ig/video//audio/adidas/2680820209117541025_CU0L8bPI7Kh.mp3',\n",
       " '/mnt/e/erya/collab_posts_ig/video//audio/adidas/2701051370219389979_CV8D-kSAkQb.mp3',\n",
       " '/mnt/e/erya/collab_posts_ig/video//audio/adidas/2727950152824615211_CXboDXwFXEr.mp3',\n",
       " '/mnt/e/erya/collab_posts_ig/video//audio/adidas/2735155998955470269_CX1OeO7BP29.mp3',\n",
       " '/mnt/e/erya/collab_posts_ig/video//audio/adidas/2747506309602866403_CYhGm6CBfTj.mp3',\n",
       " '/mnt/e/erya/collab_posts_ig/video//audio/adidas/2768328995119415842_CZrFI3HgcIi.mp3',\n",
       " '/mnt/e/erya/collab_posts_ig/video//audio/adidas/2770656199084087817_CZzWSItJBoJ.mp3',\n",
       " '/mnt/e/erya/collab_posts_ig/video//audio/adidas/2773532088842262533_CZ9kL1wlxgF.mp3',\n",
       " '/mnt/e/erya/collab_posts_ig/video//audio/adidas/2774971116904813328_CaCrYdFFJMQ.mp3',\n",
       " '/mnt/e/erya/collab_posts_ig/video//audio/adidas/2775718901379950800_CaFVaJpFujQ.mp3',\n",
       " '/mnt/e/erya/collab_posts_ig/video//audio/adidas/2776449874748926779_CaH7nNpFms7.mp3',\n",
       " '/mnt/e/erya/collab_posts_ig/video//audio/adidas/2778502169219969767_CaPOQB0AjLn.mp3',\n",
       " '/mnt/e/erya/collab_posts_ig/video//audio/adidas/2778721347642218488_CaQAFfoAlf4.mp3',\n",
       " '/mnt/e/erya/collab_posts_ig/video//audio/adidas/2779345065998695080_CaSN5ynFjqo.mp3',\n",
       " '/mnt/e/erya/collab_posts_ig/video//audio/adidas/2780059767456231942_CaUwaENlXIG.mp3',\n",
       " '/mnt/e/erya/collab_posts_ig/video//audio/adidas/2780944855350994299_CaX5pyjJWV7.mp3',\n",
       " '/mnt/e/erya/collab_posts_ig/video//audio/adidas/2789445696146915149_Ca2GhTfFD9N.mp3',\n",
       " '/mnt/e/erya/collab_posts_ig/video//audio/adidas/2791004307390354000_Ca7o6FUllJQ.mp3',\n",
       " '/mnt/e/erya/collab_posts_ig/video//audio/adidas/2827132896431007239_Cc7_mP4l2YH.mp3',\n",
       " '/mnt/e/erya/collab_posts_ig/video//audio/adidas/2827863583085743358_Cc-lvI3Fsz-.mp3',\n",
       " '/mnt/e/erya/collab_posts_ig/video//audio/adidas/2830045720635370475_CdGV5a0levr.mp3',\n",
       " '/mnt/e/erya/collab_posts_ig/video//audio/adidas/2830823149528306962_CdJGqf5llUS.mp3',\n",
       " '/mnt/e/erya/collab_posts_ig/video//audio/adidas/2834456378309947832_CdWAw74gTG4.mp3',\n",
       " '/mnt/e/erya/collab_posts_ig/video//audio/adidas/2844602417404159034_Cd6DtPIl6Q6.mp3',\n",
       " '/mnt/e/erya/collab_posts_ig/video//audio/adidas/2857740325118726863_Ceou69LAtLP.mp3',\n",
       " '/mnt/e/erya/collab_posts_ig/video//audio/adidas/2928664093424546050_CiktHnrAvEC.mp3',\n",
       " '/mnt/e/erya/collab_posts_ig/video//audio/adidas/2935256514159832183_Ci8ID97Jex3.mp3',\n",
       " '/mnt/e/erya/collab_posts_ig/video//audio/adidas/2947493611815597708_CjnmdLOAHaM.mp3',\n",
       " '/mnt/e/erya/collab_posts_ig/video//audio/adidas/2948319727635913500_CjqiSviA9sc_1.mp3',\n",
       " '/mnt/e/erya/collab_posts_ig/video//audio/adidas/2965499612809138793_Cknki-bDBJp.mp3',\n",
       " '/mnt/e/erya/collab_posts_ig/video//audio/adidas/2970756998996380016_Ck6P8A3L0lw.mp3',\n",
       " '/mnt/e/erya/collab_posts_ig/video//audio/adidas/2971197964753725476_Ck70M6Ogmgk.mp3',\n",
       " '/mnt/e/erya/collab_posts_ig/video//audio/adidas/2976469767024008278_ClOi3usJ9xW.mp3',\n",
       " '/mnt/e/erya/collab_posts_ig/video//audio/adidas/2988122356930246643_Cl38XOuOvfz.mp3',\n",
       " '/mnt/e/erya/collab_posts_ig/video//audio/adidas/2995408361429474131_CmR1AjMPRtT_1.mp3',\n",
       " '/mnt/e/erya/collab_posts_ig/video//audio/adidas/2995918996345241594_CmTpHRBAL_6.mp3',\n",
       " '/mnt/e/erya/collab_posts_ig/video//audio/adidas/2996114122274313761_CmUVeuMsRYh.mp3',\n",
       " '/mnt/e/erya/collab_posts_ig/video//audio/adidas/2999747077528972872_CmhPhLcIW5I.mp3',\n",
       " '/mnt/e/erya/collab_posts_ig/video//audio/adidas/3022683964985350688_Cnyuw0hOJog.mp3',\n",
       " '/mnt/e/erya/collab_posts_ig/video//audio/adidas/3024108787188562135_Cn3yutmgvjX.mp3',\n",
       " '/mnt/e/erya/collab_posts_ig/video//audio/adidas/3044658991519194700_CpAzTizs15M.mp3',\n",
       " '/mnt/e/erya/collab_posts_ig/video//audio/adidas/3056185877404135468_CppwNz2PTAs.mp3',\n",
       " '/mnt/e/erya/collab_posts_ig/video//audio/adidas/3062873278466845319_CqBgwTbDWqH.mp3',\n",
       " '/mnt/e/erya/collab_posts_ig/video//audio/adidas/3075058934646831877_Cqszc8HA_sF.mp3',\n",
       " '/mnt/e/erya/collab_posts_ig/video//audio/adidas/3083292305344394697_CrKDgQGv3XJ.mp3',\n",
       " '/mnt/e/erya/collab_posts_ig/video//audio/adidas/3086644241447875359_CrV9pV3gXMf.mp3',\n",
       " '/mnt/e/erya/collab_posts_ig/video//audio/adidas/3092499973057684079_CrqxFc6AiJv.mp3',\n",
       " '/mnt/e/erya/collab_posts_ig/video//audio/adidas/3109060802498324568_CslmlPOAOhY.mp3',\n",
       " '/mnt/e/erya/collab_posts_ig/video//audio/adidas/3125010665937375569_CteRKTGgRFR.mp3',\n",
       " '/mnt/e/erya/collab_posts_ig/video//audio/adidas/3130088759756244757_CtwTySgtscV.mp3',\n",
       " '/mnt/e/erya/collab_posts_ig/video//audio/adidas/3147617115712971468_CuulRcHAuLM.mp3',\n",
       " '/mnt/e/erya/collab_posts_ig/video//audio/adidas/3150341513892590068_Cu4Qupou_H0_0.mp3',\n",
       " '/mnt/e/erya/collab_posts_ig/video//audio/adidas/3156727398564673465_CvO8tgMMLe5.mp3',\n",
       " '/mnt/e/erya/collab_posts_ig/video//audio/adidas/3159625477929696211_CvZPqG7RfvT.mp3',\n",
       " '/mnt/e/erya/collab_posts_ig/video//audio/adidas/3163249883690998980_CvmHwJ1MpzE.mp3',\n",
       " '/mnt/e/erya/collab_posts_ig/video//audio/adidas/3174285741295556280_CwNVBBJgla4.mp3',\n",
       " '/mnt/e/erya/collab_posts_ig/video//audio/adidas/3192239111727544872_CxNHI8UoPoo.mp3',\n",
       " '/mnt/e/erya/collab_posts_ig/video//audio/adidas/3192387249469756744_CxNo0oWIZVI.mp3',\n",
       " '/mnt/e/erya/collab_posts_ig/video//audio/adidas/3192512036053450756_CxOFMg6IAAE.mp3',\n",
       " '/mnt/e/erya/collab_posts_ig/video//audio/adidas/3199107950709891406_Cxlg7tIMOFO.mp3',\n",
       " '/mnt/e/erya/collab_posts_ig/video//audio/adidas/3199487418988365588_Cxm3NsgIgcU.mp3',\n",
       " '/mnt/e/erya/collab_posts_ig/video//audio/adidas/3199605282906835266_CxnSA11IAlC.mp3',\n",
       " '/mnt/e/erya/collab_posts_ig/video//audio/adidas/3200550018963736977_Cxqo0j2NAmR.mp3',\n",
       " '/mnt/e/erya/collab_posts_ig/video//audio/adidas/3206001836036633881_Cx-Aa8KNrUZ.mp3',\n",
       " '/mnt/e/erya/collab_posts_ig/video//audio/adidas/3206977679659297669_CyBeTVWsuuF.mp3',\n",
       " '/mnt/e/erya/collab_posts_ig/video//audio/adidas/3223793840602377765_Cy9N2rqMm4l.mp3',\n",
       " '/mnt/e/erya/collab_posts_ig/video//audio/adidas/3225013072941690271_CzBjE2Qri2f.mp3',\n",
       " '/mnt/e/erya/collab_posts_ig/video//audio/adidas/3235384194267842112_CzmZMhrP4ZA.mp3',\n",
       " '/mnt/e/erya/collab_posts_ig/video//audio/adidas/3242480568234380519_Cz_muW8t4zn.mp3',\n",
       " '/mnt/e/erya/collab_posts_ig/video//audio/adidas/3250549478179360999_C0cRYc7tlDn_0.mp3',\n",
       " '/mnt/e/erya/collab_posts_ig/video//audio/adidas/3250580752386432152_C0cYfjTtxyY_1.mp3',\n",
       " '/mnt/e/erya/collab_posts_ig/video//audio/adidas/3252498545838792980_C0jMjHpMiEU.mp3',\n",
       " '/mnt/e/erya/collab_posts_ig/video//audio/adidas/3254177074616689859_C0pKM7Yv2TD.mp3',\n",
       " '/mnt/e/erya/collab_posts_ig/video//audio/adidas/3257789446350116333_C01_j2utxXt.mp3',\n",
       " '/mnt/e/erya/collab_posts_ig/video//audio/adidas/3258466766869987568_C04ZkKns4Dw.mp3',\n",
       " '/mnt/e/erya/collab_posts_ig/video//audio/adidas/3272932732622564939_C1ryvrFt25L.mp3',\n",
       " '/mnt/e/erya/collab_posts_ig/video//audio/adidas/3296208788049108635_C2-fG29MB6b.mp3',\n",
       " '/mnt/e/erya/collab_posts_ig/video//audio/adidas/3298088932729788655_C3FKmkJAZjv.mp3',\n",
       " '/mnt/e/erya/collab_posts_ig/video//audio/adidas/3298335552464815947_C3GCrWqtQdL.mp3',\n",
       " '/mnt/e/erya/collab_posts_ig/video//audio/adidas/3298814418472858792_C3HvjxZAvSo.mp3',\n",
       " '/mnt/e/erya/collab_posts_ig/video//audio/adidas/3299056610742464505_C3ImoIhNW_5.mp3',\n",
       " '/mnt/e/erya/collab_posts_ig/video//audio/adidas/3299598741797899377_C3Kh5LaMIxx.mp3',\n",
       " '/mnt/e/erya/collab_posts_ig/video//audio/adidas/3300498358777827228_C3NucVAtk-c.mp3',\n",
       " '/mnt/e/erya/collab_posts_ig/video//audio/adidas/3300829695774281625_C3O5x6or8-Z.mp3',\n",
       " '/mnt/e/erya/collab_posts_ig/video//audio/adidas/3304833090911107590_C3dIC-5tnoG_0.mp3',\n",
       " '/mnt/e/erya/collab_posts_ig/video//audio/adidas/3304833090911107590_C3dIC-5tnoG_5.mp3',\n",
       " '/mnt/e/erya/collab_posts_ig/video//audio/adidas/3305546506588085360_C3fqQjBt1xw_0.mp3',\n",
       " '/mnt/e/erya/collab_posts_ig/video//audio/adidas/3316470587654821499_C4GeG2VMlZ7_0.mp3',\n",
       " '/mnt/e/erya/collab_posts_ig/video//audio/adidas/3316470587654821499_C4GeG2VMlZ7_6.mp3',\n",
       " '/mnt/e/erya/collab_posts_ig/video//audio/adidas/3318445790962343621_C4NfN1ws17F_0.mp3',\n",
       " '/mnt/e/erya/collab_posts_ig/video//audio/adidas/3323057893165541815_C4d34wqMKm3.mp3',\n",
       " '/mnt/e/erya/collab_posts_ig/video//audio/adidas/3338926564249376579_C5WQAURMxdD.mp3',\n",
       " '/mnt/e/erya/collab_posts_ig/video//audio/adidas/3341789658327855794_C5ga_0atLKy.mp3',\n",
       " '/mnt/e/erya/collab_posts_ig/video//audio/adidas/3341893134920358338_C5gyhmgPpnC.mp3',\n",
       " '/mnt/e/erya/collab_posts_ig/video//audio/adidas/3347126907433047744_C5zYjA_stbA.mp3',\n",
       " '/mnt/e/erya/collab_posts_ig/video//audio/adidas/3349798013730146317_C5834ulscgN.mp3']"
      ]
     },
     "execution_count": 14,
     "metadata": {},
     "output_type": "execute_result"
    }
   ],
   "source": [
    "mp3_files"
   ]
  },
  {
   "cell_type": "code",
   "execution_count": null,
   "metadata": {},
   "outputs": [],
   "source": []
  }
 ],
 "metadata": {
  "kernelspec": {
   "display_name": "new",
   "language": "python",
   "name": "python3"
  },
  "language_info": {
   "codemirror_mode": {
    "name": "ipython",
    "version": 3
   },
   "file_extension": ".py",
   "mimetype": "text/x-python",
   "name": "python",
   "nbconvert_exporter": "python",
   "pygments_lexer": "ipython3",
   "version": "3.10.14"
  }
 },
 "nbformat": 4,
 "nbformat_minor": 2
}
