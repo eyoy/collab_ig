{
 "cells": [
  {
   "cell_type": "code",
   "execution_count": 55,
   "metadata": {},
   "outputs": [],
   "source": [
    "import pandas as pd\n",
    "import json\n",
    "import os\n",
    "import numpy as np\n",
    "import matplotlib.pyplot as plt"
   ]
  },
  {
   "cell_type": "markdown",
   "metadata": {},
   "source": [
    "### Collect Follower Growth Data using Social Blade API"
   ]
  },
  {
   "cell_type": "code",
   "execution_count": 36,
   "metadata": {},
   "outputs": [],
   "source": [
    "df1 = pd.read_csv(r\"G:\\ig\\data_did.csv\")\n",
    "# len(df1.brand.unique().tolist())  202 brands\n",
    "l = df1.brand.unique().tolist()\n",
    "l.remove('nike')\n",
    "l.remove('balmain')\n",
    "# len(l) 202"
   ]
  },
  {
   "cell_type": "code",
   "execution_count": 44,
   "metadata": {},
   "outputs": [
    {
     "name": "stdout",
     "output_type": "stream",
     "text": [
      "bvlgari 0\n"
     ]
    }
   ],
   "source": [
    "import requests\n",
    "for e in l:\n",
    "    print(e, l.index(e))\n",
    "    if os.path.exists(r\"G:\\ig\\brands_stats_growth\\{}.json\".format(e)):\n",
    "        print(\"Already existed\")\n",
    "    else:\n",
    "        headers = {\n",
    "            'query': e,\n",
    "            'history': 'vault',\n",
    "            'clientid': 'cli_ceb00bbd51f2d953728c6124',\n",
    "            'token': '955bae71750ca7cc869bd9b0ac4f8a3df39edb1428940961746c9e3311fcf60e9e9455e7aa796f665ed88ab4b0a6912ee9a55ca773fc2b1c9677a52fc2df02e6',\n",
    "        }\n",
    "\n",
    "        response = requests.get('https://matrix.sbapis.com/b/instagram/statistics', headers=headers)\n",
    "        with open(r\"G:\\ig\\brands_stats_growth\\{}.json\".format(headers['query']), 'w') as f:\n",
    "            json.dump(response.json(), f)"
   ]
  },
  {
   "cell_type": "markdown",
   "metadata": {},
   "source": [
    "### Combine Follower Growth Data into One Dataframe"
   ]
  },
  {
   "cell_type": "code",
   "execution_count": 63,
   "metadata": {},
   "outputs": [
    {
     "name": "stdout",
     "output_type": "stream",
     "text": [
      "emporioarmani.json Failed\n",
      "louboutinworld.json Failed\n"
     ]
    }
   ],
   "source": [
    "results = pd.DataFrame()\n",
    "for i in os.listdir(r\"G:\\ig\\brands_stats_growth\"):\n",
    "    #print(i)\n",
    "    try:\n",
    "        with open(r\"G:\\ig\\brands_stats_growth\\{}\".format(i), 'r') as file:\n",
    "            data = json.load(file)\n",
    "        df = pd.DataFrame(data['data']['daily'])\n",
    "        df['brand'] = i.split('.json')[0]\n",
    "        results = pd.concat([results, df])\n",
    "    except:\n",
    "        print(i, \"Failed\")"
   ]
  },
  {
   "cell_type": "code",
   "execution_count": 68,
   "metadata": {},
   "outputs": [],
   "source": [
    "results.to_csv(r\"G:\\ig\\brands_stats_growth.csv\")"
   ]
  },
  {
   "cell_type": "code",
   "execution_count": 56,
   "metadata": {},
   "outputs": [
    {
     "data": {
      "image/png": "[encoded data removed]",
      "text/plain": [
       "<Figure size 720x360 with 1 Axes>"
      ]
     },
     "metadata": {
      "needs_background": "light"
     },
     "output_type": "display_data"
    }
   ],
   "source": [
    "\n",
    "df = pd.DataFrame(data['data']['daily'])\n",
    "df[\"date\"] = pd.to_datetime(df[\"date\"])\n",
    "\n",
    "# Plot line chart\n",
    "plt.figure(figsize=(10, 5))\n",
    "plt.plot(df[\"date\"], df[\"followers\"], marker=\"o\", linestyle=\"-\", color=\"b\", label=\"Followers\")\n",
    "\n",
    "# Formatting\n",
    "plt.xlabel(\"Date\")\n",
    "plt.ylabel(\"Follower Count\")\n",
    "plt.title(\"Follower Growth Over Time\")\n",
    "plt.xticks(rotation=45)\n",
    "plt.legend()\n",
    "plt.grid(True)\n",
    "\n",
    "# Show the plot\n",
    "plt.show()"
   ]
  },
  {
   "cell_type": "markdown",
   "metadata": {},
   "source": [
    "### Post Data Aggregate"
   ]
  },
  {
   "cell_type": "code",
   "execution_count": 101,
   "metadata": {},
   "outputs": [],
   "source": [
    "df = pd.read_csv(r\"G:\\ig\\total_posts_summary.csv\")\n",
    "df1 = pd.read_csv(r\"G:\\ig\\data_did.csv\")\n",
    "df1 = df1[['id','authors','solo_author']]\n",
    "df = df.drop(['affiliates', 'sponsored', 'ads'], axis=1)\n",
    "df = df.merge(df1, on = 'id', how = 'left')\n",
    "df[['authors', 'solo_author']] = df[['authors', 'solo_author']].fillna(0)\n",
    "df['collab_posts'] = np.where(df['authors'] == 0, 0, 1)\n",
    "df = df.drop(['solo_author'], axis=1)"
   ]
  },
  {
   "cell_type": "code",
   "execution_count": 103,
   "metadata": {},
   "outputs": [],
   "source": [
    "df.to_csv(r\"G:\\ig\\total_posts_summary_total.csv\")"
   ]
  },
  {
   "cell_type": "markdown",
   "metadata": {},
   "source": [
    "### Features Aggregation"
   ]
  },
  {
   "cell_type": "code",
   "execution_count": 104,
   "metadata": {},
   "outputs": [],
   "source": [
    "f1 = pd.read_csv(r\"G:\\ig\\features\\clip_stats.csv\")"
   ]
  },
  {
   "cell_type": "code",
   "execution_count": 105,
   "metadata": {},
   "outputs": [
    {
     "data": {
      "text/html": [
       "<div>\n",
       "<style scoped>\n",
       "    .dataframe tbody tr th:only-of-type {\n",
       "        vertical-align: middle;\n",
       "    }\n",
       "\n",
       "    .dataframe tbody tr th {\n",
       "        vertical-align: top;\n",
       "    }\n",
       "\n",
       "    .dataframe thead th {\n",
       "        text-align: right;\n",
       "    }\n",
       "</style>\n",
       "<table border=\"1\" class=\"dataframe\">\n",
       "  <thead>\n",
       "    <tr style=\"text-align: right;\">\n",
       "      <th></th>\n",
       "      <th>image</th>\n",
       "      <th>clip</th>\n",
       "    </tr>\n",
       "  </thead>\n",
       "  <tbody>\n",
       "    <tr>\n",
       "      <th>0</th>\n",
       "      <td>/mnt/e/erya/collab_posts_ig/image/abercrombie/...</td>\n",
       "      <td>0.239380</td>\n",
       "    </tr>\n",
       "    <tr>\n",
       "      <th>1</th>\n",
       "      <td>/mnt/e/erya/collab_posts_ig/image/abercrombie/...</td>\n",
       "      <td>0.232300</td>\n",
       "    </tr>\n",
       "    <tr>\n",
       "      <th>2</th>\n",
       "      <td>/mnt/e/erya/collab_posts_ig/image/abercrombie/...</td>\n",
       "      <td>0.249390</td>\n",
       "    </tr>\n",
       "    <tr>\n",
       "      <th>3</th>\n",
       "      <td>/mnt/e/erya/collab_posts_ig/image/abercrombie/...</td>\n",
       "      <td>0.245605</td>\n",
       "    </tr>\n",
       "    <tr>\n",
       "      <th>4</th>\n",
       "      <td>/mnt/e/erya/collab_posts_ig/image/abercrombie/...</td>\n",
       "      <td>0.240112</td>\n",
       "    </tr>\n",
       "    <tr>\n",
       "      <th>...</th>\n",
       "      <td>...</td>\n",
       "      <td>...</td>\n",
       "    </tr>\n",
       "    <tr>\n",
       "      <th>449402</th>\n",
       "      <td>/mnt/e/erya/collab_posts_ig/image/zimmermann/c...</td>\n",
       "      <td>0.284180</td>\n",
       "    </tr>\n",
       "    <tr>\n",
       "      <th>449403</th>\n",
       "      <td>/mnt/e/erya/collab_posts_ig/image/zimmermann/c...</td>\n",
       "      <td>0.256104</td>\n",
       "    </tr>\n",
       "    <tr>\n",
       "      <th>449404</th>\n",
       "      <td>/mnt/e/erya/collab_posts_ig/image/zimmermann/c...</td>\n",
       "      <td>0.255859</td>\n",
       "    </tr>\n",
       "    <tr>\n",
       "      <th>449405</th>\n",
       "      <td>/mnt/e/erya/collab_posts_ig/image/zimmermann/c...</td>\n",
       "      <td>0.282715</td>\n",
       "    </tr>\n",
       "    <tr>\n",
       "      <th>449406</th>\n",
       "      <td>/mnt/e/erya/collab_posts_ig/image/zimmermann/c...</td>\n",
       "      <td>0.291260</td>\n",
       "    </tr>\n",
       "  </tbody>\n",
       "</table>\n",
       "<p>449407 rows × 2 columns</p>\n",
       "</div>"
      ],
      "text/plain": [
       "                                                    image      clip\n",
       "0       /mnt/e/erya/collab_posts_ig/image/abercrombie/...  0.239380\n",
       "1       /mnt/e/erya/collab_posts_ig/image/abercrombie/...  0.232300\n",
       "2       /mnt/e/erya/collab_posts_ig/image/abercrombie/...  0.249390\n",
       "3       /mnt/e/erya/collab_posts_ig/image/abercrombie/...  0.245605\n",
       "4       /mnt/e/erya/collab_posts_ig/image/abercrombie/...  0.240112\n",
       "...                                                   ...       ...\n",
       "449402  /mnt/e/erya/collab_posts_ig/image/zimmermann/c...  0.284180\n",
       "449403  /mnt/e/erya/collab_posts_ig/image/zimmermann/c...  0.256104\n",
       "449404  /mnt/e/erya/collab_posts_ig/image/zimmermann/c...  0.255859\n",
       "449405  /mnt/e/erya/collab_posts_ig/image/zimmermann/c...  0.282715\n",
       "449406  /mnt/e/erya/collab_posts_ig/image/zimmermann/c...  0.291260\n",
       "\n",
       "[449407 rows x 2 columns]"
      ]
     },
     "execution_count": 105,
     "metadata": {},
     "output_type": "execute_result"
    }
   ],
   "source": [
    "f1"
   ]
  },
  {
   "cell_type": "code",
   "execution_count": 107,
   "metadata": {},
   "outputs": [
    {
     "data": {
      "text/plain": [
       "<AxesSubplot:>"
      ]
     },
     "execution_count": 107,
     "metadata": {},
     "output_type": "execute_result"
    },
    {
     "data": {
      "image/png": "[encoded data removed]",
      "text/plain": [
       "<Figure size 432x288 with 1 Axes>"
      ]
     },
     "metadata": {
      "needs_background": "light"
     },
     "output_type": "display_data"
    }
   ],
   "source": [
    "f1['clip'].hist()"
   ]
  },
  {
   "cell_type": "code",
   "execution_count": null,
   "metadata": {},
   "outputs": [],
   "source": []
  }
 ],
 "metadata": {
  "kernelspec": {
   "display_name": "base",
   "language": "python",
   "name": "python3"
  },
  "language_info": {
   "codemirror_mode": {
    "name": "ipython",
    "version": 3
   },
   "file_extension": ".py",
   "mimetype": "text/x-python",
   "name": "python",
   "nbconvert_exporter": "python",
   "pygments_lexer": "ipython3",
   "version": "3.9.12"
  }
 },
 "nbformat": 4,
 "nbformat_minor": 2
}
